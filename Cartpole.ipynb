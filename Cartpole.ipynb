{
 "cells": [
  {
   "cell_type": "markdown",
   "id": "9d9ac8fd",
   "metadata": {},
   "source": [
    "# CartPole AI "
   ]
  },
  {
   "cell_type": "markdown",
   "id": "ffde503a",
   "metadata": {},
   "source": [
    "### Installing Packages"
   ]
  },
  {
   "cell_type": "code",
   "execution_count": 1,
   "id": "63b2bd8d",
   "metadata": {
    "collapsed": true
   },
   "outputs": [
    {
     "name": "stdout",
     "output_type": "stream",
     "text": [
      "Requirement already satisfied: stable-baselines3[extra] in d:\\python projects for github\\cartpole reinforcement learning\\cpole\\lib\\site-packages (1.7.0)\n",
      "Requirement already satisfied: gym==0.21 in d:\\python projects for github\\cartpole reinforcement learning\\cpole\\lib\\site-packages (from stable-baselines3[extra]) (0.21.0)\n",
      "Requirement already satisfied: cloudpickle in d:\\python projects for github\\cartpole reinforcement learning\\cpole\\lib\\site-packages (from stable-baselines3[extra]) (2.2.1)\n",
      "Requirement already satisfied: numpy in d:\\python projects for github\\cartpole reinforcement learning\\cpole\\lib\\site-packages (from stable-baselines3[extra]) (1.24.2)\n",
      "Requirement already satisfied: torch>=1.11 in d:\\python projects for github\\cartpole reinforcement learning\\cpole\\lib\\site-packages (from stable-baselines3[extra]) (2.0.0+cu117)\n",
      "Requirement already satisfied: matplotlib in d:\\python projects for github\\cartpole reinforcement learning\\cpole\\lib\\site-packages (from stable-baselines3[extra]) (3.7.1)\n",
      "Requirement already satisfied: importlib-metadata~=4.13 in d:\\python projects for github\\cartpole reinforcement learning\\cpole\\lib\\site-packages (from stable-baselines3[extra]) (4.13.0)\n",
      "Requirement already satisfied: pandas in d:\\python projects for github\\cartpole reinforcement learning\\cpole\\lib\\site-packages (from stable-baselines3[extra]) (1.5.3)\n",
      "Requirement already satisfied: autorom[accept-rom-license]~=0.4.2 in d:\\python projects for github\\cartpole reinforcement learning\\cpole\\lib\\site-packages (from stable-baselines3[extra]) (0.4.2)\n",
      "Requirement already satisfied: pillow in d:\\python projects for github\\cartpole reinforcement learning\\cpole\\lib\\site-packages (from stable-baselines3[extra]) (9.3.0)\n",
      "Requirement already satisfied: ale-py==0.7.4 in d:\\python projects for github\\cartpole reinforcement learning\\cpole\\lib\\site-packages (from stable-baselines3[extra]) (0.7.4)\n",
      "Requirement already satisfied: opencv-python in d:\\python projects for github\\cartpole reinforcement learning\\cpole\\lib\\site-packages (from stable-baselines3[extra]) (4.7.0.72)\n",
      "Requirement already satisfied: tqdm in d:\\python projects for github\\cartpole reinforcement learning\\cpole\\lib\\site-packages (from stable-baselines3[extra]) (4.65.0)\n",
      "Requirement already satisfied: rich in d:\\python projects for github\\cartpole reinforcement learning\\cpole\\lib\\site-packages (from stable-baselines3[extra]) (13.3.2)\n",
      "Requirement already satisfied: psutil in d:\\python projects for github\\cartpole reinforcement learning\\cpole\\lib\\site-packages (from stable-baselines3[extra]) (5.9.4)\n",
      "Requirement already satisfied: tensorboard>=2.9.1 in d:\\python projects for github\\cartpole reinforcement learning\\cpole\\lib\\site-packages (from stable-baselines3[extra]) (2.12.0)\n",
      "Requirement already satisfied: importlib-resources in d:\\python projects for github\\cartpole reinforcement learning\\cpole\\lib\\site-packages (from ale-py==0.7.4->stable-baselines3[extra]) (5.12.0)\n",
      "Requirement already satisfied: requests in d:\\python projects for github\\cartpole reinforcement learning\\cpole\\lib\\site-packages (from autorom[accept-rom-license]~=0.4.2->stable-baselines3[extra]) (2.28.1)\n",
      "Requirement already satisfied: click in d:\\python projects for github\\cartpole reinforcement learning\\cpole\\lib\\site-packages (from autorom[accept-rom-license]~=0.4.2->stable-baselines3[extra]) (8.1.3)\n",
      "Requirement already satisfied: AutoROM.accept-rom-license in d:\\python projects for github\\cartpole reinforcement learning\\cpole\\lib\\site-packages (from autorom[accept-rom-license]~=0.4.2->stable-baselines3[extra]) (0.5.5)\n",
      "Requirement already satisfied: zipp>=0.5 in d:\\python projects for github\\cartpole reinforcement learning\\cpole\\lib\\site-packages (from importlib-metadata~=4.13->stable-baselines3[extra]) (3.15.0)\n",
      "Requirement already satisfied: tensorboard-data-server<0.8.0,>=0.7.0 in d:\\python projects for github\\cartpole reinforcement learning\\cpole\\lib\\site-packages (from tensorboard>=2.9.1->stable-baselines3[extra]) (0.7.0)\n",
      "Requirement already satisfied: protobuf>=3.19.6 in d:\\python projects for github\\cartpole reinforcement learning\\cpole\\lib\\site-packages (from tensorboard>=2.9.1->stable-baselines3[extra]) (4.22.1)\n",
      "Requirement already satisfied: setuptools>=41.0.0 in d:\\python projects for github\\cartpole reinforcement learning\\cpole\\lib\\site-packages (from tensorboard>=2.9.1->stable-baselines3[extra]) (56.0.0)\n",
      "Requirement already satisfied: grpcio>=1.48.2 in d:\\python projects for github\\cartpole reinforcement learning\\cpole\\lib\\site-packages (from tensorboard>=2.9.1->stable-baselines3[extra]) (1.51.3)\n",
      "Requirement already satisfied: absl-py>=0.4 in d:\\python projects for github\\cartpole reinforcement learning\\cpole\\lib\\site-packages (from tensorboard>=2.9.1->stable-baselines3[extra]) (1.4.0)\n",
      "Requirement already satisfied: wheel>=0.26 in d:\\python projects for github\\cartpole reinforcement learning\\cpole\\lib\\site-packages (from tensorboard>=2.9.1->stable-baselines3[extra]) (0.40.0)\n",
      "Requirement already satisfied: tensorboard-plugin-wit>=1.6.0 in d:\\python projects for github\\cartpole reinforcement learning\\cpole\\lib\\site-packages (from tensorboard>=2.9.1->stable-baselines3[extra]) (1.8.1)\n",
      "Requirement already satisfied: google-auth-oauthlib<0.5,>=0.4.1 in d:\\python projects for github\\cartpole reinforcement learning\\cpole\\lib\\site-packages (from tensorboard>=2.9.1->stable-baselines3[extra]) (0.4.6)\n",
      "Requirement already satisfied: markdown>=2.6.8 in d:\\python projects for github\\cartpole reinforcement learning\\cpole\\lib\\site-packages (from tensorboard>=2.9.1->stable-baselines3[extra]) (3.4.1)\n",
      "Requirement already satisfied: werkzeug>=1.0.1 in d:\\python projects for github\\cartpole reinforcement learning\\cpole\\lib\\site-packages (from tensorboard>=2.9.1->stable-baselines3[extra]) (2.2.3)\n",
      "Requirement already satisfied: google-auth<3,>=1.6.3 in d:\\python projects for github\\cartpole reinforcement learning\\cpole\\lib\\site-packages (from tensorboard>=2.9.1->stable-baselines3[extra]) (2.16.2)\n",
      "Requirement already satisfied: typing-extensions in d:\\python projects for github\\cartpole reinforcement learning\\cpole\\lib\\site-packages (from torch>=1.11->stable-baselines3[extra]) (4.4.0)\n",
      "Requirement already satisfied: networkx in d:\\python projects for github\\cartpole reinforcement learning\\cpole\\lib\\site-packages (from torch>=1.11->stable-baselines3[extra]) (3.0)\n",
      "Requirement already satisfied: sympy in d:\\python projects for github\\cartpole reinforcement learning\\cpole\\lib\\site-packages (from torch>=1.11->stable-baselines3[extra]) (1.11.1)\n",
      "Requirement already satisfied: jinja2 in d:\\python projects for github\\cartpole reinforcement learning\\cpole\\lib\\site-packages (from torch>=1.11->stable-baselines3[extra]) (3.1.2)\n",
      "Requirement already satisfied: filelock in d:\\python projects for github\\cartpole reinforcement learning\\cpole\\lib\\site-packages (from torch>=1.11->stable-baselines3[extra]) (3.9.0)\n",
      "Requirement already satisfied: fonttools>=4.22.0 in d:\\python projects for github\\cartpole reinforcement learning\\cpole\\lib\\site-packages (from matplotlib->stable-baselines3[extra]) (4.39.2)\n",
      "Requirement already satisfied: packaging>=20.0 in d:\\python projects for github\\cartpole reinforcement learning\\cpole\\lib\\site-packages (from matplotlib->stable-baselines3[extra]) (23.0)\n",
      "Requirement already satisfied: pyparsing>=2.3.1 in d:\\python projects for github\\cartpole reinforcement learning\\cpole\\lib\\site-packages (from matplotlib->stable-baselines3[extra]) (3.0.9)\n",
      "Requirement already satisfied: cycler>=0.10 in d:\\python projects for github\\cartpole reinforcement learning\\cpole\\lib\\site-packages (from matplotlib->stable-baselines3[extra]) (0.11.0)\n",
      "Requirement already satisfied: python-dateutil>=2.7 in d:\\python projects for github\\cartpole reinforcement learning\\cpole\\lib\\site-packages (from matplotlib->stable-baselines3[extra]) (2.8.2)\n",
      "Requirement already satisfied: contourpy>=1.0.1 in d:\\python projects for github\\cartpole reinforcement learning\\cpole\\lib\\site-packages (from matplotlib->stable-baselines3[extra]) (1.0.7)\n",
      "Requirement already satisfied: kiwisolver>=1.0.1 in d:\\python projects for github\\cartpole reinforcement learning\\cpole\\lib\\site-packages (from matplotlib->stable-baselines3[extra]) (1.4.4)\n",
      "Requirement already satisfied: pytz>=2020.1 in d:\\python projects for github\\cartpole reinforcement learning\\cpole\\lib\\site-packages (from pandas->stable-baselines3[extra]) (2022.7.1)\n",
      "Requirement already satisfied: markdown-it-py<3.0.0,>=2.2.0 in d:\\python projects for github\\cartpole reinforcement learning\\cpole\\lib\\site-packages (from rich->stable-baselines3[extra]) (2.2.0)\n",
      "Requirement already satisfied: pygments<3.0.0,>=2.13.0 in d:\\python projects for github\\cartpole reinforcement learning\\cpole\\lib\\site-packages (from rich->stable-baselines3[extra]) (2.14.0)\n",
      "Requirement already satisfied: colorama in d:\\python projects for github\\cartpole reinforcement learning\\cpole\\lib\\site-packages (from tqdm->stable-baselines3[extra]) (0.4.6)\n",
      "Requirement already satisfied: cachetools<6.0,>=2.0.0 in d:\\python projects for github\\cartpole reinforcement learning\\cpole\\lib\\site-packages (from google-auth<3,>=1.6.3->tensorboard>=2.9.1->stable-baselines3[extra]) (5.3.0)\n",
      "Requirement already satisfied: six>=1.9.0 in d:\\python projects for github\\cartpole reinforcement learning\\cpole\\lib\\site-packages (from google-auth<3,>=1.6.3->tensorboard>=2.9.1->stable-baselines3[extra]) (1.16.0)\n",
      "Requirement already satisfied: rsa<5,>=3.1.4 in d:\\python projects for github\\cartpole reinforcement learning\\cpole\\lib\\site-packages (from google-auth<3,>=1.6.3->tensorboard>=2.9.1->stable-baselines3[extra]) (4.9)\n",
      "Requirement already satisfied: pyasn1-modules>=0.2.1 in d:\\python projects for github\\cartpole reinforcement learning\\cpole\\lib\\site-packages (from google-auth<3,>=1.6.3->tensorboard>=2.9.1->stable-baselines3[extra]) (0.2.8)\n",
      "Requirement already satisfied: requests-oauthlib>=0.7.0 in d:\\python projects for github\\cartpole reinforcement learning\\cpole\\lib\\site-packages (from google-auth-oauthlib<0.5,>=0.4.1->tensorboard>=2.9.1->stable-baselines3[extra]) (1.3.1)\n",
      "Requirement already satisfied: mdurl~=0.1 in d:\\python projects for github\\cartpole reinforcement learning\\cpole\\lib\\site-packages (from markdown-it-py<3.0.0,>=2.2.0->rich->stable-baselines3[extra]) (0.1.2)\n",
      "Requirement already satisfied: certifi>=2017.4.17 in d:\\python projects for github\\cartpole reinforcement learning\\cpole\\lib\\site-packages (from requests->autorom[accept-rom-license]~=0.4.2->stable-baselines3[extra]) (2022.12.7)\n",
      "Requirement already satisfied: urllib3<1.27,>=1.21.1 in d:\\python projects for github\\cartpole reinforcement learning\\cpole\\lib\\site-packages (from requests->autorom[accept-rom-license]~=0.4.2->stable-baselines3[extra]) (1.26.13)\n",
      "Requirement already satisfied: idna<4,>=2.5 in d:\\python projects for github\\cartpole reinforcement learning\\cpole\\lib\\site-packages (from requests->autorom[accept-rom-license]~=0.4.2->stable-baselines3[extra]) (3.4)\n",
      "Requirement already satisfied: charset-normalizer<3,>=2 in d:\\python projects for github\\cartpole reinforcement learning\\cpole\\lib\\site-packages (from requests->autorom[accept-rom-license]~=0.4.2->stable-baselines3[extra]) (2.1.1)\n",
      "Requirement already satisfied: MarkupSafe>=2.1.1 in d:\\python projects for github\\cartpole reinforcement learning\\cpole\\lib\\site-packages (from werkzeug>=1.0.1->tensorboard>=2.9.1->stable-baselines3[extra]) (2.1.2)\n",
      "Requirement already satisfied: libtorrent in d:\\python projects for github\\cartpole reinforcement learning\\cpole\\lib\\site-packages (from AutoROM.accept-rom-license->autorom[accept-rom-license]~=0.4.2->stable-baselines3[extra]) (2.0.7)\n",
      "Requirement already satisfied: mpmath>=0.19 in d:\\python projects for github\\cartpole reinforcement learning\\cpole\\lib\\site-packages (from sympy->torch>=1.11->stable-baselines3[extra]) (1.2.1)\n",
      "Requirement already satisfied: pyasn1<0.5.0,>=0.4.6 in d:\\python projects for github\\cartpole reinforcement learning\\cpole\\lib\\site-packages (from pyasn1-modules>=0.2.1->google-auth<3,>=1.6.3->tensorboard>=2.9.1->stable-baselines3[extra]) (0.4.8)\n",
      "Requirement already satisfied: oauthlib>=3.0.0 in d:\\python projects for github\\cartpole reinforcement learning\\cpole\\lib\\site-packages (from requests-oauthlib>=0.7.0->google-auth-oauthlib<0.5,>=0.4.1->tensorboard>=2.9.1->stable-baselines3[extra]) (3.2.2)\n"
     ]
    },
    {
     "name": "stdout",
     "output_type": "stream",
     "text": [
      "Requirement already satisfied: gym in d:\\python projects for github\\cartpole reinforcement learning\\cpole\\lib\\site-packages (0.21.0)\n",
      "Requirement already satisfied: numpy>=1.18.0 in d:\\python projects for github\\cartpole reinforcement learning\\cpole\\lib\\site-packages (from gym) (1.24.2)\n",
      "Requirement already satisfied: cloudpickle>=1.2.0 in d:\\python projects for github\\cartpole reinforcement learning\\cpole\\lib\\site-packages (from gym) (2.2.1)\n"
     ]
    }
   ],
   "source": [
    "!pip install stable-baselines3[extra]\n",
    "!pip install gym"
   ]
  },
  {
   "cell_type": "markdown",
   "id": "a7153f98",
   "metadata": {},
   "source": [
    "### Importing Packages"
   ]
  },
  {
   "cell_type": "code",
   "execution_count": 2,
   "id": "780d4db5",
   "metadata": {},
   "outputs": [],
   "source": [
    "import os\n",
    "import gym \n",
    "from stable_baselines3 import PPO\n",
    "from stable_baselines3.common.vec_env import DummyVecEnv\n",
    "from stable_baselines3.common.evaluation import evaluate_policy\n",
    "from stable_baselines3.common.callbacks import EvalCallback, StopTrainingOnRewardThreshold"
   ]
  },
  {
   "cell_type": "code",
   "execution_count": 3,
   "id": "eb449c60",
   "metadata": {},
   "outputs": [],
   "source": [
    "env_id = \"CartPole-v0\"\n",
    "env = gym.make(env_id)"
   ]
  },
  {
   "cell_type": "markdown",
   "id": "5607d7c9",
   "metadata": {},
   "source": [
    "### Testing the Environment"
   ]
  },
  {
   "cell_type": "code",
   "execution_count": 4,
   "id": "242584ee",
   "metadata": {},
   "outputs": [
    {
     "name": "stdout",
     "output_type": "stream",
     "text": [
      "Episode:1 Score:32.0\n",
      "Episode:2 Score:13.0\n",
      "Episode:3 Score:30.0\n",
      "Episode:4 Score:16.0\n",
      "Episode:5 Score:27.0\n"
     ]
    }
   ],
   "source": [
    "episodes = 5\n",
    "for episode in range(1, episodes+1):\n",
    "    state = env.reset()\n",
    "    done = False\n",
    "    score = 0 \n",
    "    \n",
    "    while not done:\n",
    "        env.render()\n",
    "        action = env.action_space.sample()\n",
    "        n_state, reward, done, info = env.step(action)\n",
    "        score+=reward\n",
    "    print('Episode:{} Score:{}'.format(episode, score))\n",
    "env.close()"
   ]
  },
  {
   "cell_type": "code",
   "execution_count": 5,
   "id": "8f167bf5",
   "metadata": {},
   "outputs": [
    {
     "data": {
      "text/plain": [
       "array([ 3.7286401e+00, -2.8970889e+38, -1.8258455e-01,  4.9848321e+37],\n",
       "      dtype=float32)"
      ]
     },
     "execution_count": 5,
     "metadata": {},
     "output_type": "execute_result"
    }
   ],
   "source": [
    "env.observation_space.sample()"
   ]
  },
  {
   "cell_type": "markdown",
   "id": "315b0243",
   "metadata": {},
   "source": [
    "### Setting up Callback Evaluation"
   ]
  },
  {
   "cell_type": "code",
   "execution_count": 7,
   "id": "9e7fc8d7",
   "metadata": {},
   "outputs": [],
   "source": [
    "MODEL_DIR = './models'\n",
    "LOG_DIR = './logs'"
   ]
  },
  {
   "cell_type": "code",
   "execution_count": 8,
   "id": "2f2965c1",
   "metadata": {},
   "outputs": [],
   "source": [
    "save_path = os.path.join(MODEL_DIR, 'PPO_model')"
   ]
  },
  {
   "cell_type": "code",
   "execution_count": 9,
   "id": "81dd5621",
   "metadata": {},
   "outputs": [],
   "source": [
    "stop_callback = StopTrainingOnRewardThreshold(reward_threshold=190, verbose=1)\n",
    "eval_callback = EvalCallback(env, \n",
    "                             callback_on_new_best=stop_callback, \n",
    "                             eval_freq=10000, \n",
    "                             best_model_save_path=save_path, \n",
    "                             verbose=1)"
   ]
  },
  {
   "cell_type": "markdown",
   "id": "546610b3",
   "metadata": {},
   "source": [
    "### Training The Model (PPO)"
   ]
  },
  {
   "cell_type": "code",
   "execution_count": 11,
   "id": "469653ca",
   "metadata": {},
   "outputs": [],
   "source": [
    "env = gym.make(env_id)\n",
    "env = DummyVecEnv([lambda: env])\n",
    "model = PPO('MlpPolicy', env, verbose = 0, tensorboard_log=LOG_DIR)"
   ]
  },
  {
   "cell_type": "code",
   "execution_count": 12,
   "id": "c6f1af6b",
   "metadata": {},
   "outputs": [
    {
     "name": "stderr",
     "output_type": "stream",
     "text": [
      "D:\\Python Projects For Github\\Cartpole Reinforcement learning\\cpole\\lib\\site-packages\\stable_baselines3\\common\\evaluation.py:67: UserWarning: Evaluation environment is not wrapped with a ``Monitor`` wrapper. This may result in reporting modified episode lengths and rewards, if other wrappers happen to modify these. Consider wrapping environment first with ``Monitor`` wrapper.\n",
      "  warnings.warn(\n"
     ]
    },
    {
     "name": "stdout",
     "output_type": "stream",
     "text": [
      "Eval num_timesteps=10000, episode_reward=181.80 +/- 36.40\n",
      "Episode length: 181.80 +/- 36.40\n",
      "New best mean reward!\n",
      "Eval num_timesteps=20000, episode_reward=200.00 +/- 0.00\n",
      "Episode length: 200.00 +/- 0.00\n",
      "New best mean reward!\n",
      "Stopping training because the mean reward 200.00  is above the threshold 190\n"
     ]
    },
    {
     "data": {
      "text/plain": [
       "<stable_baselines3.ppo.ppo.PPO at 0x11fabfb0cd0>"
      ]
     },
     "execution_count": 12,
     "metadata": {},
     "output_type": "execute_result"
    }
   ],
   "source": [
    "model.learn(total_timesteps=30000, callback = eval_callback)"
   ]
  },
  {
   "cell_type": "code",
   "execution_count": null,
   "id": "9d479506",
   "metadata": {},
   "outputs": [],
   "source": [
    "model.save(save_path)"
   ]
  },
  {
   "cell_type": "code",
   "execution_count": 13,
   "id": "eb306238",
   "metadata": {},
   "outputs": [],
   "source": [
    "del model"
   ]
  },
  {
   "cell_type": "markdown",
   "id": "9b4e4f2c",
   "metadata": {},
   "source": [
    "### Loading and Evaluation"
   ]
  },
  {
   "cell_type": "code",
   "execution_count": 16,
   "id": "d943f578",
   "metadata": {},
   "outputs": [],
   "source": [
    "model = PPO.load('./models/PPO_model/best_model', env=env)"
   ]
  },
  {
   "cell_type": "code",
   "execution_count": 17,
   "id": "26fcd48a",
   "metadata": {},
   "outputs": [
    {
     "data": {
      "text/plain": [
       "(200.0, 0.0)"
      ]
     },
     "execution_count": 17,
     "metadata": {},
     "output_type": "execute_result"
    }
   ],
   "source": [
    "evaluate_policy(model, env, n_eval_episodes=10, render=True)"
   ]
  },
  {
   "cell_type": "code",
   "execution_count": 18,
   "id": "44d25d66",
   "metadata": {},
   "outputs": [],
   "source": [
    "env.close()"
   ]
  },
  {
   "cell_type": "code",
   "execution_count": 19,
   "id": "fe4d732e",
   "metadata": {},
   "outputs": [
    {
     "name": "stdout",
     "output_type": "stream",
     "text": [
      "info [{'terminal_observation': array([-0.47279328, -0.35963345, -0.21927232, -0.5159051 ], dtype=float32)}]\n"
     ]
    }
   ],
   "source": [
    "obs = env.reset()\n",
    "while True:\n",
    "    action, _states = model.predict(obs)\n",
    "    obs, rewards, done, info = env.step(action)\n",
    "    env.render()\n",
    "    if done: \n",
    "        print('info', info)\n",
    "        break\n",
    "env.close()"
   ]
  },
  {
   "cell_type": "markdown",
   "id": "bbe39143",
   "metadata": {},
   "source": [
    "### TensorBoard Logs"
   ]
  },
  {
   "cell_type": "code",
   "execution_count": 25,
   "id": "c08d3908",
   "metadata": {},
   "outputs": [],
   "source": [
    "train_log = os.path.join(LOG_DIR, 'PPO_1')"
   ]
  },
  {
   "cell_type": "code",
   "execution_count": 26,
   "id": "0275a717",
   "metadata": {},
   "outputs": [
    {
     "name": "stdout",
     "output_type": "stream",
     "text": [
      "^C\n"
     ]
    }
   ],
   "source": [
    "!tensorboard --logdir={train_log}"
   ]
  }
 ],
 "metadata": {
  "kernelspec": {
   "display_name": "cpole",
   "language": "python",
   "name": "cpole"
  },
  "language_info": {
   "codemirror_mode": {
    "name": "ipython",
    "version": 3
   },
   "file_extension": ".py",
   "mimetype": "text/x-python",
   "name": "python",
   "nbconvert_exporter": "python",
   "pygments_lexer": "ipython3",
   "version": "3.8.10"
  }
 },
 "nbformat": 4,
 "nbformat_minor": 5
}
